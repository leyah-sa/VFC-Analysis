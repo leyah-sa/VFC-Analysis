{
 "cells": [
  {
   "cell_type": "markdown",
   "metadata": {},
   "source": [
    "# Monitoring de la VFC\n",
    "\n",
    "1.\tÉvolution de la FC (fréquence cardiaque) :\n",
    "- Comparez la moyenne de la fréquence cardiaque pour chaque jour/semaine.\n",
    "- Représentez cela dans un graphique (évolution journalière ou hebdomadaire).\n",
    "\n",
    "2.\tAnalyses temporelles et spectrales :\n",
    "- Temporelles : Moyenne RR, SDNN (écart-type des intervalles RR), RMSSD.\n",
    "- Spectrales : Low Frequency (LF), High Frequency (HF), ratio LF/HF, Welch, FFT\n"
   ]
  }
 ],
 "metadata": {
  "language_info": {
   "name": "python"
  }
 },
 "nbformat": 4,
 "nbformat_minor": 2
}
