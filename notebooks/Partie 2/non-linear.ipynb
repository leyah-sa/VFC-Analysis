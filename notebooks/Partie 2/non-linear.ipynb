{
 "cells": [
  {
   "cell_type": "markdown",
   "metadata": {},
   "source": [
    "#  Méthodes non-linéaires\n",
    "\n",
    "Les analyses non-linéaires sont plus complexes mais essentielles pour ce projet :\n",
    "\n",
    "- Attracteurs et comportement 1/f : Kubios peut générer ces visualisations.\n",
    "- Entropie et DFA (analyse de fluctuation sans tendance) :\n"
   ]
  }
 ],
 "metadata": {
  "language_info": {
   "name": "python"
  }
 },
 "nbformat": 4,
 "nbformat_minor": 2
}
