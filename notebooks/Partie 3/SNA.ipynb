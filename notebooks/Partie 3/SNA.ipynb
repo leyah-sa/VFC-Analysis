{
 "cells": [
  {
   "cell_type": "markdown",
   "metadata": {},
   "source": [
    "# Comparez les valeurs LF/HF pour évaluer l’état du système nerveux autonome. comment?"
   ]
  },
  {
   "cell_type": "markdown",
   "metadata": {},
   "source": [
    "# Analyse Spectrale des Intervalles RR : Calcul des LF et HF"
   ]
  },
  {
   "cell_type": "code",
   "execution_count": null,
   "metadata": {
    "vscode": {
     "languageId": "plaintext"
    }
   },
   "outputs": [],
   "source": [
    "import pandas as pd\n",
    "\n",
    "# Importer les données\n",
    "file_path = \"C:\\\\Users\\\\user\\\\OneDrive\\\\Documents\\\\M2 SNS IDS\\\\HAH913E - Santé activité physique 5\\\\Physiologie\\\\Py_Data_HRV - Data.csv\"\n",
    "hrv_data = pd.read_csv(file_path)\n",
    "\n",
    "# Afficher la strucutres \n",
    "hrv_data.head()"
   ]
  },
  {
   "cell_type": "code",
   "execution_count": null,
   "metadata": {
    "vscode": {
     "languageId": "plaintext"
    }
   },
   "outputs": [],
   "source": [
    "import numpy as np\n",
    "from scipy.signal import welch\n",
    "import matplotlib.pyplot as plt\n",
    "\n",
    "# Étape 1 : Conversion des Mean RR en secondes\n",
    "mean_rr_seconds = mean_rr / 1000  # Conversion des millisecondes en secondes\n",
    "\n",
    "# Étape 2 : Définir la fréquence d'échantillonnage\n",
    "fs = 1.0  # Hypothèse : 1 Hz, à ajuster selon vos données réelles\n",
    "\n",
    "# Étape 3 : Méthode de Welch pour l'estimation de la densité spectrale de puissance\n",
    "frequencies, power_spectral_density = welch(mean_rr_seconds, fs, nperseg=len(mean_rr_seconds))\n",
    "\n",
    "# Étape 4 : Définir les bandes LF et HF\n",
    "lf_band = (frequencies >= 0.04) & (frequencies < 0.15)\n",
    "hf_band = (frequencies >= 0.15) & (frequencies <= 0.4)\n",
    "\n",
    "# Étape 5 : Calculer la puissance dans chaque bande\n",
    "lf_power = np.trapz(power_spectral_density[lf_band], frequencies[lf_band])\n",
    "hf_power = np.trapz(power_spectral_density[hf_band], frequencies[hf_band])\n",
    "\n",
    "# Étape 6 : Visualiser les résultats\n",
    "plt.figure(figsize=(10, 6))\n",
    "plt.semilogy(frequencies, power_spectral_density, label='PSD')\n",
    "plt.axvspan(0.04, 0.15, color='blue', alpha=0.3, label='LF Band (0.04-0.15 Hz)')\n",
    "plt.axvspan(0.15, 0.4, color='green', alpha=0.3, label='HF Band (0.15-0.4 Hz)')\n",
    "plt.title('Power Spectral Density (Welch Method)')\n",
    "plt.xlabel('Frequency (Hz)')\n",
    "plt.ylabel('Power Spectral Density')\n",
    "plt.legend()\n",
    "plt.grid()\n",
    "plt.show()\n",
    "\n",
    "# Étape 7 : Afficher les résultats LF et HF\n",
    "print(f\"Puissance LF (0.04-0.15 Hz) : {lf_power}\")\n",
    "print(f\"Puissance HF (0.15-0.4 Hz) : {hf_power}\")\n"
   ]
  },
  {
   "cell_type": "code",
   "execution_count": null,
   "metadata": {
    "vscode": {
     "languageId": "plaintext"
    }
   },
   "outputs": [],
   "source": [
    "def spectral_analysis(data, fs=1.0):\n",
    "    # Assurez-vous que les données sont numériques\n",
    "    data = data.apply(pd.to_numeric, errors='coerce')\n",
    "    \n",
    "    # Convertir les intervalles RR en secondes\n",
    "    mean_rr_seconds = data.mean(axis=1, skipna=True) / 1000  # Moyenne sur toutes les colonnes\n",
    "    mean_rr_seconds = mean_rr_seconds.dropna()  # Supprimer les lignes avec des NaN résultants\n",
    "    \n",
    "    # Vérifiez qu'il reste suffisamment de données\n",
    "    if len(mean_rr_seconds) < 2:\n",
    "        raise ValueError(\"Pas assez de données valides pour l'analyse spectrale.\")\n",
    "    \n",
    "    # Méthode de Welch\n",
    "    frequencies, power_spectral_density = welch(mean_rr_seconds, fs, nperseg=len(mean_rr_seconds))\n",
    "    lf_band = (frequencies >= 0.04) & (frequencies < 0.15)\n",
    "    hf_band = (frequencies >= 0.15) & (frequencies <= 0.4)\n",
    "    lf_power = np.trapz(power_spectral_density[lf_band], frequencies[lf_band])\n",
    "    hf_power = np.trapz(power_spectral_density[hf_band], frequencies[hf_band])\n",
    "    return frequencies, power_spectral_density, lf_power, hf_power\n",
    "\n",
    "# Réexécutez les analyses pour les trois groupes\n",
    "frequencies_junk, psd_junk, lf_junk, hf_junk = spectral_analysis(group_junk_food)\n",
    "frequencies_sport, psd_sport, lf_sport, hf_sport = spectral_analysis(group_sport_no_junk)\n",
    "frequencies_no_sport, psd_no_sport, lf_no_sport, hf_no_sport = spectral_analysis(group_no_sport_no_junk)\n",
    "\n",
    "# Visualisation des résultats (inchangée)\n",
    "plt.figure(figsize=(12, 8))\n",
    "plt.semilogy(frequencies_junk, psd_junk, label='Junk Food', color='red')\n",
    "plt.semilogy(frequencies_sport, psd_sport, label='Sport sans Junk Food', color='blue')\n",
    "plt.semilogy(frequencies_no_sport, psd_no_sport, label='Pas de Sport & Pas de Junk Food', color='green')\n",
    "plt.axvspan(0.04, 0.15, color='blue', alpha=0.2, label='LF Band (0.04-0.15 Hz)')\n",
    "plt.axvspan(0.15, 0.4, color='green', alpha=0.2, label='HF Band (0.15-0.4 Hz)')\n",
    "plt.title('Analyse Spectrale des Intervalles RR pour les trois Conditions')\n",
    "plt.xlabel('Fréquence (Hz)')\n",
    "plt.ylabel('Densité Spectrale de Puissance')\n",
    "plt.legend()\n",
    "plt.grid()\n",
    "plt.show()\n",
    "\n",
    "# Affichage des puissances LF et HF pour chaque groupe\n",
    "print(\"Puissances spectrales LF et HF pour chaque condition :\")\n",
    "print(f\"Junk Food : LF = {lf_junk:.4f}, HF = {hf_junk:.4f}\")\n",
    "print(f\"Sport sans junk Food : LF = {lf_sport:.4f}, HF = {hf_sport:.4f}\")\n",
    "print(f\"Pas de Sport & Pas de Junk Food : LF = {lf_no_sport:.4f}, HF = {hf_no_sport:.4f}\")"
   ]
  },
  {
   "cell_type": "code",
   "execution_count": null,
   "metadata": {
    "vscode": {
     "languageId": "plaintext"
    }
   },
   "outputs": [],
   "source": []
  },
  {
   "cell_type": "code",
   "execution_count": null,
   "metadata": {
    "vscode": {
     "languageId": "plaintext"
    }
   },
   "outputs": [],
   "source": []
  },
  {
   "cell_type": "code",
   "execution_count": null,
   "metadata": {
    "vscode": {
     "languageId": "plaintext"
    }
   },
   "outputs": [],
   "source": []
  },
  {
   "cell_type": "code",
   "execution_count": null,
   "metadata": {
    "vscode": {
     "languageId": "plaintext"
    }
   },
   "outputs": [],
   "source": []
  }
 ],
 "metadata": {
  "language_info": {
   "name": "python"
  }
 },
 "nbformat": 4,
 "nbformat_minor": 2
}
