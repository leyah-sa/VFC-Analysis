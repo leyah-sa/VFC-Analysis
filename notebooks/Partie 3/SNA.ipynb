{
 "cells": [
  {
   "cell_type": "markdown",
   "metadata": {},
   "source": [
    "# Comparez les valeurs LF/HF pour évaluer l’état du système nerveux autonome. comment?"
   ]
  }
 ],
 "metadata": {
  "language_info": {
   "name": "python"
  }
 },
 "nbformat": 4,
 "nbformat_minor": 2
}
